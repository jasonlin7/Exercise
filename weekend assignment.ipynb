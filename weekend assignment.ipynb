{
 "cells": [
  {
   "cell_type": "code",
   "execution_count": null,
   "metadata": {},
   "outputs": [],
   "source": [
    "'''\n",
    "Weekend Assignment\n",
    "Exercise 3.8 - Seeing the World: Think of at least five places in the world that you would like to visit.\n",
    "Store the locations in a list, making sure that they are NOT in alphabetical order. Print your list in its\n",
    "original order (don't worry about printing it neatly; a raw Python list output is fine). Use the \"sorted()\"\n",
    "function to print your list in alphabetical order without modifying the original list. Show that your original\n",
    "list is still unsorted. Use the \"sorted()\" function to print the list in reverse alphabetical order without\n",
    "changing the order of the original list. Again, show that the original list is still unsorted. Use the\n",
    "\"reverse()\" function to change the order of the list, then print it to show the order has changed. Use the\n",
    "\"reverse()\" function again to change the list back to its original order (show the output). Use the \"sort()\"\n",
    "function to change your list so it's stored in alphabetical order, and print the list to show the change.\n",
    "Use \"sort()\" again to store the items in reverse alphabetical order, and print the list to show the change.\n",
    "'''"
   ]
  },
  {
   "cell_type": "code",
   "execution_count": 1,
   "metadata": {},
   "outputs": [
    {
     "name": "stdout",
     "output_type": "stream",
     "text": [
      "orignial list\n",
      "['New Zealand', 'Japan', 'Mongolia', 'Finland', 'Uganda'] \n",
      "\n",
      "sorted list\n",
      "['Finland', 'Japan', 'Mongolia', 'New Zealand', 'Uganda'] \n",
      "\n",
      "orignial list\n",
      "['New Zealand', 'Japan', 'Mongolia', 'Finland', 'Uganda'] \n",
      "\n",
      "sorted list in reverse\n",
      "['Uganda', 'New Zealand', 'Mongolia', 'Japan', 'Finland'] \n",
      "\n",
      "orignial list\n",
      "['New Zealand', 'Japan', 'Mongolia', 'Finland', 'Uganda'] \n",
      "\n",
      "updated reverse list\n",
      "['Uganda', 'Finland', 'Mongolia', 'Japan', 'New Zealand'] \n",
      "\n",
      "2nd updated reverse list\n",
      "['New Zealand', 'Japan', 'Mongolia', 'Finland', 'Uganda'] \n",
      "\n",
      "sort the list\n",
      "['Finland', 'Japan', 'Mongolia', 'New Zealand', 'Uganda'] \n",
      "\n",
      "sort the list in reverse\n",
      "['Uganda', 'New Zealand', 'Mongolia', 'Japan', 'Finland'] \n",
      "\n"
     ]
    }
   ],
   "source": [
    "print (\"orignial list\")\n",
    "places = ['New Zealand', 'Japan', 'Mongolia', 'Finland', 'Uganda']\n",
    "print (f\"{places} \\n\")\n",
    "\n",
    "print (\"sorted list\")\n",
    "print (sorted(places), \"\\n\")\n",
    "\n",
    "print (\"orignial list\")\n",
    "print (f\"{places} \\n\")\n",
    "\n",
    "print (\"sorted list in reverse\")\n",
    "print (sorted(places, reverse=True), \"\\n\")\n",
    "\n",
    "\n",
    "print (\"orignial list\")\n",
    "print (f\"{places} \\n\")\n",
    "\n",
    "print (\"updated reverse list\")\n",
    "places.reverse()\n",
    "print (f\"{places} \\n\")\n",
    "\n",
    "print (\"2nd updated reverse list\")\n",
    "places.reverse()\n",
    "print (f\"{places} \\n\")\n",
    "\n",
    "print (\"sort the list\")\n",
    "places.sort()\n",
    "print (f\"{places} \\n\")\n",
    "\n",
    "print (\"sort the list in reverse\")\n",
    "places.sort(reverse = True)\n",
    "print (f\"{places} \\n\")\n"
   ]
  },
  {
   "cell_type": "code",
   "execution_count": null,
   "metadata": {},
   "outputs": [],
   "source": []
  }
 ],
 "metadata": {
  "kernelspec": {
   "display_name": "Python 3",
   "language": "python",
   "name": "python3"
  },
  "language_info": {
   "codemirror_mode": {
    "name": "ipython",
    "version": 3
   },
   "file_extension": ".py",
   "mimetype": "text/x-python",
   "name": "python",
   "nbconvert_exporter": "python",
   "pygments_lexer": "ipython3",
   "version": "3.7.6"
  }
 },
 "nbformat": 4,
 "nbformat_minor": 4
}
