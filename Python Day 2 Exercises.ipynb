{
 "cells": [
  {
   "cell_type": "markdown",
   "metadata": {},
   "source": [
    "Ask for a color and store that answer\n",
    "If the answer is grey then print out you found Victor's favorite color.\n",
    "Otherwise print out the color is not Victor's favorite color."
   ]
  },
  {
   "cell_type": "code",
   "execution_count": 6,
   "metadata": {},
   "outputs": [
    {
     "name": "stdout",
     "output_type": "stream",
     "text": [
      "what is the color \n",
      "j\n",
      "the color is not Victor's favorite color\n"
     ]
    }
   ],
   "source": [
    "if input(\"what is the color \\n\") == \"grey\":\n",
    "    print (\"you found Victor's favorite color\")\n",
    "else:\n",
    "    print (\"the color is not Victor's favorite color\")\n",
    "    "
   ]
  },
  {
   "cell_type": "markdown",
   "metadata": {},
   "source": [
    "Now with the code before add in more conditions for other colors such as red, green, blue and write statements for them. "
   ]
  },
  {
   "cell_type": "code",
   "execution_count": 12,
   "metadata": {},
   "outputs": [
    {
     "name": "stdout",
     "output_type": "stream",
     "text": [
      "what is the color \n",
      "black\n",
      "the color is not Victor's favorite color\n"
     ]
    }
   ],
   "source": [
    "color = input(\"what is the color \\n\")\n",
    "\n",
    "if color == \"grey\":\n",
    "    print (\"you found Victor's favorite color\")\n",
    "elif color == \"red\":\n",
    "    print (\"you found Victor's favorite color\n",
    "elif color == \"green\":\n",
    "    print (\"you found Victor's favorite color\")\n",
    "elif color == \"blue\":\n",
    "    print (\"you found Victor's favorite color\")\n",
    "else:\n",
    "    print (\"the color is not Victor's favorite color\")"
   ]
  },
  {
   "cell_type": "markdown",
   "metadata": {},
   "source": [
    "Ask for an exam score and store that number\n",
    "If the number is greater than 100\n",
    "print out you cannot have an exam score higher than 100.\n",
    "if the number doesn't exceeed 100 but is greater than 75\n",
    "print out you did great on your exam!\n",
    "otherwise if they scored lower than 75\n",
    "print out that they need to study harder."
   ]
  },
  {
   "cell_type": "code",
   "execution_count": 17,
   "metadata": {},
   "outputs": [
    {
     "name": "stdout",
     "output_type": "stream",
     "text": [
      "what is the exam score? \n",
      "74\n",
      "need to study harder!\n"
     ]
    }
   ],
   "source": [
    "score = int(input (\"what is the exam score? \\n\"))\n",
    "\n",
    "if score > 100:\n",
    "    print (\"Cannot have an exam score higher than 100\")\n",
    "elif score > 75:\n",
    "    print (\"you did great on your exam!\")\n",
    "else:\n",
    "    print (\"need to study harder!\")"
   ]
  },
  {
   "cell_type": "markdown",
   "metadata": {},
   "source": [
    "Define a function that takes in 3 numbers and adds them together\n",
    "Define a function that takes in 2 numbers and multiplies them\n",
    "Tell the user to choose option 1 to add three numbers or to choose option 2 to mutiply two numbers.\n",
    "If they choose 1 then use the first function otherwise if they choose 2 then use the second function. "
   ]
  },
  {
   "cell_type": "code",
   "execution_count": 9,
   "metadata": {},
   "outputs": [
    {
     "name": "stdout",
     "output_type": "stream",
     "text": [
      "what function will you choose? function 1 or function 2 \n",
      "function 2\n",
      "you picked function 2, please give me 3 numbers\n",
      "1st number? 4\n",
      "2nd number? 5\n",
      "the answer is 20\n"
     ]
    }
   ],
   "source": [
    "def fn1 (a, b, c):\n",
    "    return a + b + c\n",
    "\n",
    "def fn2 (a, b):\n",
    "    return a * b\n",
    "\n",
    "function_selection = input (\"what function will you choose? function 1 or function 2 \\n\")\n",
    "\n",
    "if function_selection == \"function 1\":\n",
    "    print (\"you picked function 1, please give me 3 numbers\")\n",
    "    answer = fn1 (int(input(\"1st number? \")), int (input(\"2nd number? \")), int (input(\"3rd number? \")))\n",
    "    print ( f\"the answer is {answer}\")\n",
    "elif function_selection == \"function 2\":\n",
    "    print (\"you picked function 2, please give me 3 numbers\")\n",
    "    answer = fn2 (int (input(\"1st number? \")), int (input(\"2nd number? \")))\n",
    "    print ( f\"the answer is {answer}\")\n",
    "else:\n",
    "    print (\"you picked the wrong function\")"
   ]
  },
  {
   "cell_type": "markdown",
   "metadata": {},
   "source": [
    "Make a loop go from 50 to 100 and print every iteration"
   ]
  },
  {
   "cell_type": "code",
   "execution_count": 15,
   "metadata": {
    "scrolled": true
   },
   "outputs": [
    {
     "name": "stdout",
     "output_type": "stream",
     "text": [
      "50, \n",
      "51, \n",
      "52, \n",
      "53, \n",
      "54, \n",
      "55, \n",
      "56, \n",
      "57, \n",
      "58, \n",
      "59, \n",
      "60, \n",
      "61, \n",
      "62, \n",
      "63, \n",
      "64, \n",
      "65, \n",
      "66, \n",
      "67, \n",
      "68, \n",
      "69, \n",
      "70, \n",
      "71, \n",
      "72, \n",
      "73, \n",
      "74, \n",
      "75, \n",
      "76, \n",
      "77, \n",
      "78, \n",
      "79, \n",
      "80, \n",
      "81, \n",
      "82, \n",
      "83, \n",
      "84, \n",
      "85, \n",
      "86, \n",
      "87, \n",
      "88, \n",
      "89, \n",
      "90, \n",
      "91, \n",
      "92, \n",
      "93, \n",
      "94, \n",
      "95, \n",
      "96, \n",
      "97, \n",
      "98, \n",
      "99, \n"
     ]
    }
   ],
   "source": [
    "for i in range (50, 100):\n",
    "    print (f\"{i}, \")"
   ]
  },
  {
   "cell_type": "markdown",
   "metadata": {},
   "source": [
    "Make an empty list and call it names"
   ]
  },
  {
   "cell_type": "code",
   "execution_count": 18,
   "metadata": {},
   "outputs": [],
   "source": [
    "names = []"
   ]
  },
  {
   "cell_type": "markdown",
   "metadata": {},
   "source": [
    "Make names filled with names of 5 people (Hannah, Victor, Sam, James, John)"
   ]
  },
  {
   "cell_type": "code",
   "execution_count": 61,
   "metadata": {},
   "outputs": [
    {
     "name": "stdout",
     "output_type": "stream",
     "text": [
      "['Hannah', 'Victor', 'Sam', 'James', 'John']\n"
     ]
    }
   ],
   "source": [
    "names = ['Hannah', 'Victor', 'Sam', 'James', 'John']\n",
    "\n",
    "print (names)"
   ]
  },
  {
   "cell_type": "markdown",
   "metadata": {},
   "source": [
    "Make names sorted in reverse. Print out the list using a for-enchanced loop"
   ]
  },
  {
   "cell_type": "code",
   "execution_count": 46,
   "metadata": {},
   "outputs": [
    {
     "name": "stdout",
     "output_type": "stream",
     "text": [
      "['Victor', 'Sam', 'John', 'James', 'Hannah']\n"
     ]
    }
   ],
   "source": [
    "names.sort(reverse = True)\n",
    "\n",
    "print (names)"
   ]
  },
  {
   "cell_type": "markdown",
   "metadata": {},
   "source": [
    "Make names sorted alphabetically. Print out the list using regular for loop"
   ]
  },
  {
   "cell_type": "code",
   "execution_count": 50,
   "metadata": {},
   "outputs": [
    {
     "name": "stdout",
     "output_type": "stream",
     "text": [
      "Hannah\n",
      "James\n",
      "John\n",
      "Sam\n",
      "Victor\n"
     ]
    }
   ],
   "source": [
    "names.sort()\n",
    "\n",
    "for i in range (0, 5):\n",
    "    print (names[i])\n"
   ]
  },
  {
   "cell_type": "markdown",
   "metadata": {},
   "source": [
    "Pull out the fourth item from names and print it out"
   ]
  },
  {
   "cell_type": "code",
   "execution_count": 51,
   "metadata": {},
   "outputs": [
    {
     "name": "stdout",
     "output_type": "stream",
     "text": [
      "Sam\n"
     ]
    }
   ],
   "source": [
    "print (names[3])"
   ]
  },
  {
   "cell_type": "markdown",
   "metadata": {},
   "source": [
    "Pull out the first item from names and print it out"
   ]
  },
  {
   "cell_type": "code",
   "execution_count": 52,
   "metadata": {},
   "outputs": [
    {
     "name": "stdout",
     "output_type": "stream",
     "text": [
      "Hannah\n"
     ]
    }
   ],
   "source": [
    "print (names[0])"
   ]
  },
  {
   "cell_type": "markdown",
   "metadata": {},
   "source": [
    "Make an empty list called words and add each word into the list using the append function. The words are (Hello, Python,Class, Friends, Online, Jupyter).\n",
    "Print out the list using a for-enchanced loop"
   ]
  },
  {
   "cell_type": "code",
   "execution_count": 9,
   "metadata": {},
   "outputs": [
    {
     "name": "stdout",
     "output_type": "stream",
     "text": [
      "hello\n",
      "Python\n",
      "Class\n",
      "Friends\n",
      "Online\n",
      "Jupyter\n"
     ]
    }
   ],
   "source": [
    "words = []\n",
    "\n",
    "words.append ('hello')\n",
    "words.append ('Python')\n",
    "words.append ('Class')\n",
    "words.append ('Friends')\n",
    "words.append ('Online')\n",
    "words.append ('Jupyter')\n",
    "\n",
    "for i in range (0, 6):\n",
    "    print (words[i])\n"
   ]
  },
  {
   "cell_type": "markdown",
   "metadata": {},
   "source": [
    "Make words lose it's last word and print out the new list."
   ]
  },
  {
   "cell_type": "code",
   "execution_count": 10,
   "metadata": {},
   "outputs": [
    {
     "name": "stdout",
     "output_type": "stream",
     "text": [
      "hello\n",
      "Python\n",
      "Class\n",
      "Friends\n",
      "Online\n"
     ]
    }
   ],
   "source": [
    "words.remove(\"Jupyter\")\n",
    "\n",
    "for i in range (0, 5):\n",
    "    print (words[i])"
   ]
  },
  {
   "cell_type": "markdown",
   "metadata": {},
   "source": [
    "Make a variable named fruits that contains a string \"Apples Oranges Bananas Pineapples Persimmons Dragonfruit\" and make it into a list splitting it by the spaces."
   ]
  },
  {
   "cell_type": "code",
   "execution_count": 27,
   "metadata": {},
   "outputs": [
    {
     "name": "stdout",
     "output_type": "stream",
     "text": [
      "Apples Oranges Bananas Pineapples Persimmons Dragonfruit\n",
      "['Apples Oranges Bananas Pineapples Persimmons Dragonfruit']\n",
      "<class 'list'>\n"
     ]
    }
   ],
   "source": [
    "fruits = (\"Apples Oranges Bananas Pineapples Persimmons Dragonfruit\")\n",
    "print (fruits)\n",
    "\n",
    "fruits_list = fruits.strip('[]').split(', ') \n",
    "print (fruits_list)\n",
    "print (type(fruits_list))"
   ]
  },
  {
   "cell_type": "markdown",
   "metadata": {},
   "source": [
    "Make a variable named fruits that contains a string \"Apples,Oranges,Bananas,Pineapples,Persimmons,Dragonfruit\" and make it into a list splitting it by the commas."
   ]
  },
  {
   "cell_type": "code",
   "execution_count": 30,
   "metadata": {},
   "outputs": [
    {
     "name": "stdout",
     "output_type": "stream",
     "text": [
      "Apples,Oranges,Bananas,Pineapples,Persimmons,Dragonfruit\n",
      "['Apples,Oranges,Bananas,Pineapples,Persimmons,Dragonfruit']\n",
      "<class 'list'>\n"
     ]
    }
   ],
   "source": [
    "fruits = (\"Apples,Oranges,Bananas,Pineapples,Persimmons,Dragonfruit\")\n",
    "print (fruits)\n",
    "\n",
    "fruits_list = fruits.strip('[]').split(' ') \n",
    "print (fruits_list)\n",
    "print (type(fruits_list))"
   ]
  },
  {
   "cell_type": "code",
   "execution_count": null,
   "metadata": {},
   "outputs": [],
   "source": []
  }
 ],
 "metadata": {
  "kernelspec": {
   "display_name": "Python 3",
   "language": "python",
   "name": "python3"
  },
  "language_info": {
   "codemirror_mode": {
    "name": "ipython",
    "version": 3
   },
   "file_extension": ".py",
   "mimetype": "text/x-python",
   "name": "python",
   "nbconvert_exporter": "python",
   "pygments_lexer": "ipython3",
   "version": "3.7.6"
  }
 },
 "nbformat": 4,
 "nbformat_minor": 4
}
