{
 "cells": [
  {
   "cell_type": "code",
   "execution_count": 23,
   "metadata": {},
   "outputs": [],
   "source": [
    "class Job:\n",
    "    def __init__(self, title, duration, description, company):\n",
    "        self.title = title\n",
    "        self.duration = duration\n",
    "        self.description = description\n",
    "        self.company = company\n",
    "    def output(self):\n",
    "        print (\"Experience: \")\n",
    "        print(self.title, \"@\", self.company)\n",
    "        print(self.duration)\n",
    "        print(self.description)"
   ]
  },
  {
   "cell_type": "code",
   "execution_count": 33,
   "metadata": {},
   "outputs": [
    {
     "name": "stdout",
     "output_type": "stream",
     "text": [
      "Experience: \n",
      "Manager @ ABC123\n",
      "4 years\n",
      "Managing daily operation\n"
     ]
    }
   ],
   "source": [
    "job1 = Job(\"Manager\", \"4 years\", \"Managing daily operation\", \"ABC123\")\n",
    "job1.output()"
   ]
  },
  {
   "cell_type": "code",
   "execution_count": 2,
   "metadata": {},
   "outputs": [],
   "source": [
    "class Education:\n",
    "    def __init__(self, university, degree, yearGraduate):\n",
    "        self.university = university\n",
    "        self.degree = degree\n",
    "        self.yearGraduate = yearGraduate\n",
    "    def output(self):\n",
    "        print (\"Education: \")\n",
    "        print(self.university, \", \", self.degree, \", \", self.yearGraduate)"
   ]
  },
  {
   "cell_type": "code",
   "execution_count": 3,
   "metadata": {},
   "outputs": [
    {
     "name": "stdout",
     "output_type": "stream",
     "text": [
      "Education: \n",
      "MC ,  CS ,  2019\n"
     ]
    }
   ],
   "source": [
    "edu = Education(\"MC\", \"CS\", \"2019\")\n",
    "edu.output()"
   ]
  },
  {
   "cell_type": "code",
   "execution_count": 58,
   "metadata": {},
   "outputs": [],
   "source": [
    "class Resume:\n",
    "    def __init__(self, name, phone, email):\n",
    "        self.name = name\n",
    "        self.phone = phone\n",
    "        self.email = email\n",
    "        self.experience = []\n",
    "        self.education = []\n",
    "        \n",
    "    def output(self):\n",
    "        print(self.name)\n",
    "        print(self.phone)\n",
    "        print(self.email)\n",
    "        print(\"\\n\")\n",
    "        for j in self.experience:\n",
    "            j.output()\n",
    "        print(\"\\n\")\n",
    "        for e in self.education:\n",
    "            e.output()\n",
    "        \n",
    "    def add_job(self, title, duration, description, company):\n",
    "        j = Job(title, duration, description, company)\n",
    "        self.experience.append(j)\n",
    "        \n",
    "    def add_education(self, university, degree, yearGraduate):\n",
    "        e = Education(university, degree, yearGraduate)\n",
    "        self.education.append(e)"
   ]
  },
  {
   "cell_type": "code",
   "execution_count": 59,
   "metadata": {},
   "outputs": [],
   "source": [
    "myresume = Resume(\"Jen\", \"123-123-1234\", \"jen@gmail.com\")"
   ]
  },
  {
   "cell_type": "code",
   "execution_count": 60,
   "metadata": {},
   "outputs": [],
   "source": [
    "myresume.add_education (\"MC\", \"CS\", \"2019\")"
   ]
  },
  {
   "cell_type": "code",
   "execution_count": 61,
   "metadata": {},
   "outputs": [],
   "source": [
    "myresume.add_job (\"Manager\", \"4 years\", \"Managing daily operation\", \"ABC123\")"
   ]
  },
  {
   "cell_type": "code",
   "execution_count": 62,
   "metadata": {},
   "outputs": [
    {
     "name": "stdout",
     "output_type": "stream",
     "text": [
      "Jen\n",
      "123-123-1234\n",
      "jen@gmail.com\n",
      "\n",
      "\n",
      "Experience: \n",
      "Manager @ ABC123\n",
      "4 years\n",
      "Managing daily operation\n",
      "\n",
      "\n",
      "Education: \n",
      "MC ,  CS ,  2019\n"
     ]
    }
   ],
   "source": [
    "myresume.output()"
   ]
  },
  {
   "cell_type": "code",
   "execution_count": null,
   "metadata": {},
   "outputs": [],
   "source": []
  }
 ],
 "metadata": {
  "kernelspec": {
   "display_name": "Python 3",
   "language": "python",
   "name": "python3"
  },
  "language_info": {
   "codemirror_mode": {
    "name": "ipython",
    "version": 3
   },
   "file_extension": ".py",
   "mimetype": "text/x-python",
   "name": "python",
   "nbconvert_exporter": "python",
   "pygments_lexer": "ipython3",
   "version": "3.7.6"
  }
 },
 "nbformat": 4,
 "nbformat_minor": 4
}
