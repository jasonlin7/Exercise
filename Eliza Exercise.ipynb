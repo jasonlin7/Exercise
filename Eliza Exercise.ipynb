{
 "cells": [
  {
   "cell_type": "code",
   "execution_count": 13,
   "metadata": {},
   "outputs": [],
   "source": [
    "def removePunc(x):    \n",
    "    for p in x:\n",
    "        for m in \"!()-[]{};:\\,<>./?@#$%^&*_~\":\n",
    "            if p == m:\n",
    "                x = x.replace(p, \"\")\n",
    "    return x"
   ]
  },
  {
   "cell_type": "code",
   "execution_count": 14,
   "metadata": {},
   "outputs": [],
   "source": [
    "def greeting(x):  \n",
    "    for g in [\"hi\", \"hello\", \"hey\", \"sup\"]:\n",
    "        if x == g :\n",
    "            x = (\"hi\")\n",
    "    return x"
   ]
  },
  {
   "cell_type": "code",
   "execution_count": 1,
   "metadata": {},
   "outputs": [],
   "source": [
    "def whyDoYou(x):\n",
    "    x = x.split(' ')\n",
    "    for i in range (0, len(x)):\n",
    "        if x[i] == \"i\":\n",
    "            x[i] = \"you\"\n",
    "        elif x[i] == \"me\":\n",
    "            x[i] = \"you\"\n",
    "        elif x[i] == \"my\":\n",
    "            x[i] = \"your\"\n",
    "        elif x[i] == \"am\":\n",
    "            x[i] = \"are\"\n",
    "        elif x[i] == \"im\":\n",
    "            x[i] = \"you are\"\n",
    "    x = (' '.join(x))\n",
    "    return x"
   ]
  },
  {
   "cell_type": "code",
   "execution_count": 2,
   "metadata": {
    "scrolled": true
   },
   "outputs": [
    {
     "name": "stdout",
     "output_type": "stream",
     "text": [
      "> hi\n",
      "Hi there, what's your problem?\n",
      "> how are you\n",
      "I am fine, can I help you?\n",
      "> who are you\n",
      "My name is Eliza and I am here to help.\n",
      "> im confused\n",
      "Why do you say that you are confused?\n",
      "> my cat likes me\n",
      "Why do you say that your cat likes you?\n",
      "> I don't know what's wrong\n",
      "Why do you say that you don't know what's wrong?\n",
      "> I am feeling awesome\n",
      "Why do you say that you are feeling awesome?\n",
      "> bye\n",
      "Bye\n"
     ]
    }
   ],
   "source": [
    "def removePunc(x):  #puntuation removal function\n",
    "    for p in x:\n",
    "        for m in \"!()-[]{};:\\,<>./?@#$%^&*_~\":\n",
    "            if p == m:\n",
    "                x = x.replace(p, \"\")\n",
    "    return x\n",
    "\n",
    "def greeting(x):  #greeting standardize function\n",
    "    for g in [\"hi\", \"hello\", \"hey\", \"sup\", \"whatsup\"]:\n",
    "        if x == g :\n",
    "            x = (\"hi\")\n",
    "    return x\n",
    "\n",
    "def terminate(x):  #termination standardized function\n",
    "    for t in [\"bye\", \"good bye\", \"end\", \"done\", \"thats it\", \"see you next time\"]:\n",
    "        if x == t :\n",
    "            x = (\"good bye\")\n",
    "    return x\n",
    "\n",
    "def whyDoYou(x): #conver string to why do you format\n",
    "    x = x.split(' ')\n",
    "    for i in range (0, len(x)):\n",
    "        if x[i] == \"i\":\n",
    "            x[i] = \"you\"\n",
    "        elif x[i] == \"me\":\n",
    "            x[i] = \"you\"\n",
    "        elif x[i] == \"my\":\n",
    "            x[i] = \"your\"\n",
    "        elif x[i] == \"am\":\n",
    "            x[i] = \"are\"\n",
    "        elif x[i] == \"im\":\n",
    "            x[i] = \"you are\"\n",
    "    x = (' '.join(x))\n",
    "    return x\n",
    "\n",
    "answer = \"\"\n",
    "\n",
    "while answer != \"good bye\":\n",
    "    answer = input (\"> \")\n",
    "    answer = answer.lower() #lowercase the string\n",
    "    answer = removePunc(answer) #remove puntuations\n",
    "    answer = greeting(answer) #standardize greeting \n",
    "    answer = terminate(answer) #standardize bye\n",
    "    answer = whyDoYou(answer) #whyDoYou convertion\n",
    "    \n",
    "    if answer == \"hi\":\n",
    "        print (\"Hi there, what's your problem?\")\n",
    "    elif answer == \"how are you\":\n",
    "        print (\"I am fine, can I help you?\")\n",
    "    elif answer == \"i am fine.\":\n",
    "        print (\"Good to hear, what can I help you today?\")\n",
    "    elif ((answer.split(' ')[0]) == \"you\"):  #checking first word, if whyDoYou is applicable\n",
    "        print (f\"Why do you say that {answer}?\")\n",
    "    elif ((answer.split(' ')[0]) == \"your\"):  #checking first word, if whyDoYou is applicable\n",
    "        print (f\"Why do you say that {answer}?\")\n",
    "    elif answer == \"who are you\":\n",
    "        print (\"My name is Eliza and I am here to help.\")\n",
    "    elif answer == \"good bye\":\n",
    "        print (\"Bye\")\n",
    "    else:\n",
    "        print (\"Sorry I don't understand\")"
   ]
  },
  {
   "cell_type": "code",
   "execution_count": null,
   "metadata": {},
   "outputs": [],
   "source": []
  }
 ],
 "metadata": {
  "kernelspec": {
   "display_name": "Python 3",
   "language": "python",
   "name": "python3"
  },
  "language_info": {
   "codemirror_mode": {
    "name": "ipython",
    "version": 3
   },
   "file_extension": ".py",
   "mimetype": "text/x-python",
   "name": "python",
   "nbconvert_exporter": "python",
   "pygments_lexer": "ipython3",
   "version": "3.7.6"
  }
 },
 "nbformat": 4,
 "nbformat_minor": 4
}
