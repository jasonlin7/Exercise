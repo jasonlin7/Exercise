{
 "cells": [
  {
   "cell_type": "code",
   "execution_count": 16,
   "metadata": {},
   "outputs": [
    {
     "name": "stdout",
     "output_type": "stream",
     "text": [
      "x = 3, y = 2, sum = 5\n",
      "x = 3, y = 4, sum = 7\n",
      "x = 3, y = 6, sum = 9\n",
      "x = 3, y = 5, sum = 8\n",
      "x = 1, y = 6, sum = 7\n",
      "x = 3, y = 3, sum = 6\n",
      "x = 3, y = 6, sum = 9\n",
      "x = 6, y = 2, sum = 8\n",
      "cheated\n",
      "x = 1, y = 3, sum = 4\n",
      "x = 4, y = 2, sum = 6\n",
      "cheated\n",
      "x = 4, y = 5, sum = 9\n",
      "x = 4, y = 6, sum = 10\n",
      "cheated\n",
      "you are going to jail\n"
     ]
    }
   ],
   "source": [
    "import random as rand;\n",
    "\n",
    "def MonoDice(count):\n",
    "    while count < 3:\n",
    "        x = rand.randint(1, 6)\n",
    "        y = rand.randint(1, 6)\n",
    "        print (f\"x = {x}, y = {y}, sum = {x+y}\")\n",
    "\n",
    "        if x==2 or x==4 or x==6:\n",
    "            if y==2 or y==4 or y==6:\n",
    "                count +=1\n",
    "                print ('cheated')\n",
    "    print ('you are going to jail')\n",
    "            \n",
    "\n",
    "z = MonoDice(0)"
   ]
  },
  {
   "cell_type": "code",
   "execution_count": 3,
   "metadata": {},
   "outputs": [
    {
     "ename": "NameError",
     "evalue": "name 'x' is not defined",
     "output_type": "error",
     "traceback": [
      "\u001b[0;31m---------------------------------------------------------------------------\u001b[0m",
      "\u001b[0;31mNameError\u001b[0m                                 Traceback (most recent call last)",
      "\u001b[0;32m<ipython-input-3-9c3457715cd0>\u001b[0m in \u001b[0;36m<module>\u001b[0;34m\u001b[0m\n\u001b[0;32m----> 1\u001b[0;31m \u001b[0mprint\u001b[0m \u001b[0;34m(\u001b[0m\u001b[0;34mf\"x = {x}, y = {y}, sum = {x+y}\"\u001b[0m\u001b[0;34m)\u001b[0m\u001b[0;34m\u001b[0m\u001b[0;34m\u001b[0m\u001b[0m\n\u001b[0m\u001b[1;32m      2\u001b[0m \u001b[0;34m\u001b[0m\u001b[0m\n",
      "\u001b[0;31mNameError\u001b[0m: name 'x' is not defined"
     ]
    }
   ],
   "source": [
    "        print (f\"x = {x}, y = {y}, sum = {x+y}\")\n",
    "\n"
   ]
  },
  {
   "cell_type": "code",
   "execution_count": null,
   "metadata": {},
   "outputs": [],
   "source": []
  }
 ],
 "metadata": {
  "kernelspec": {
   "display_name": "Python 3",
   "language": "python",
   "name": "python3"
  },
  "language_info": {
   "codemirror_mode": {
    "name": "ipython",
    "version": 3
   },
   "file_extension": ".py",
   "mimetype": "text/x-python",
   "name": "python",
   "nbconvert_exporter": "python",
   "pygments_lexer": "ipython3",
   "version": "3.7.6"
  }
 },
 "nbformat": 4,
 "nbformat_minor": 4
}
